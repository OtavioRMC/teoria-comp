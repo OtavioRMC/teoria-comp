{
  "nbformat": 4,
  "nbformat_minor": 0,
  "metadata": {
    "colab": {
      "provenance": []
    },
    "kernelspec": {
      "name": "python3",
      "display_name": "Python 3"
    },
    "language_info": {
      "name": "python"
    }
  },
  "cells": [
    {
      "cell_type": "markdown",
      "source": [
        "# **Teoria da Computação - Grafos**\n",
        "\n",
        "Modelagem de Grafos com [NetworkX]((https://networkx.org/)\n"
      ],
      "metadata": {
        "id": "StmLNxhEdnBJ"
      }
    },
    {
      "cell_type": "code",
      "source": [
        "!pip install networkx"
      ],
      "metadata": {
        "colab": {
          "base_uri": "https://localhost:8080/"
        },
        "id": "g8IOa6NRhQHI",
        "outputId": "6585e387-f5cc-4b3b-f702-a604d287c7b0"
      },
      "execution_count": 1,
      "outputs": [
        {
          "output_type": "stream",
          "name": "stdout",
          "text": [
            "Requirement already satisfied: networkx in /usr/local/lib/python3.10/dist-packages (3.3)\n"
          ]
        }
      ]
    },
    {
      "cell_type": "markdown",
      "source": [
        "# Representação Grafos:\n",
        "\n",
        "## Lineares:\n",
        "\n",
        "\n",
        "* Pilha\n",
        "* Fila\n",
        "* Lista\n",
        "\n",
        "## Hierárquica:\n",
        "\n",
        "* Árvores"
      ],
      "metadata": {
        "id": "vuzGNomahh9I"
      }
    },
    {
      "cell_type": "markdown",
      "source": [
        "# TAD ( Tipo Abstrato de Dados ) Gráfos\n",
        "\n",
        "* criarGrafo\n",
        "* inserirAresta\n",
        "* existeAresta\n",
        "* removerAresta\n",
        "* destruirGrafo\n",
        "* imprimirGrafo\n",
        "\n",
        "\n",
        "## Matriz de Adjacências\n",
        "\n",
        "* Especificar os relacionamentos(arestas) entre os nós.\n",
        "\n",
        "* Linhas = Colunas = nós\n",
        "\n",
        "* Previamente saber o número de nós\n",
        "\n",
        "* Os Algoritmos operam sob a matriz de adjacência\n",
        "\n",
        "## Matriz de Incidência - Grafos Direcionados\n",
        "\n",
        "* Como as arestas estão convergindo ou divergindo do nó\n",
        "\n",
        "## Listas de Adjacências\n",
        "\n",
        "* Armazena o relacionamento entre vértices de um grafo em uma estrutura de listas\n",
        "\n",
        "* Para listas todos os nós adjacentes a um nó n basta percorrermos a listas encadeada\n",
        "\n",
        "## Matriz de Pesos\n",
        "\n",
        "* Armazena os valores associado às arestas que ligam os vértices"
      ],
      "metadata": {
        "id": "3A-4x_tmiJ2M"
      }
    },
    {
      "cell_type": "markdown",
      "source": [
        "# NetworkX"
      ],
      "metadata": {
        "id": "jDWLyRvGpb41"
      }
    },
    {
      "cell_type": "code",
      "source": [
        "import networkx as nx\n",
        "import numpy as np\n",
        "\n",
        "# Criação de um grafo não-direcionado\n",
        "G = nx.Graph()\n",
        "\n",
        "# Adicionar os Nós\n",
        "G.add_node(\"A\")\n",
        "G.add_node(\"B\")\n",
        "G.add_node(\"C\")\n",
        "G.add_nodes_from([\"D\",\"E\",\"F\"])\n",
        "\n",
        "\n",
        "print(G)\n",
        "\n",
        "# Adicionar as arestas\n",
        "G.add_edge(\"A\",\"B\")\n",
        "G.add_edge(\"A\",\"C\")\n",
        "G.add_edge(\"A\",\"D\")\n",
        "G.add_edge(\"B\",\"D\")\n",
        "G.add_edge(\"B\",\"E\")\n",
        "G.add_edge(\"C\",\"D\")\n",
        "G.add_edges_from([(\"D\",\"E\"),(\"D\",\"F\")])\n",
        "\n",
        "# Visualizar o grafo\n",
        "nx.draw(G,\n",
        "        with_labels=True,\n",
        "        node_size=1000,\n",
        "        node_color=\"blue\",\n",
        "        font_size=22,\n",
        "        edge_color='red',\n",
        "        font_color='white',\n",
        "        pos=nx.kamada_kawai_layout(G))\n",
        "\n",
        "\n",
        "# Spring\n",
        "# Circular\n",
        "# Spectral\n",
        "# Shell\n",
        "# kamada kawai\n",
        "# random\n"
      ],
      "metadata": {
        "colab": {
          "base_uri": "https://localhost:8080/",
          "height": 533
        },
        "id": "SCjXcM35pd2A",
        "outputId": "0237a008-3516-450f-9dad-685b999d4fae"
      },
      "execution_count": 23,
      "outputs": [
        {
          "output_type": "stream",
          "name": "stdout",
          "text": [
            "Graph with 6 nodes and 0 edges\n"
          ]
        },
        {
          "output_type": "display_data",
          "data": {
            "text/plain": [
              "<Figure size 640x480 with 1 Axes>"
            ],
            "image/png": "[encoded data removed]"
          },
          "metadata": {}
        }
      ]
    },
    {
      "cell_type": "code",
      "source": [
        "# Matriz de Adjacência\n",
        "mat_adj = nx.adjacency_matrix(G)\n",
        "mat_adj = mat_adj.todense()\n",
        "print(np.array(mat_adj))"
      ],
      "metadata": {
        "colab": {
          "base_uri": "https://localhost:8080/"
        },
        "id": "Bywu_jP8s3xQ",
        "outputId": "cba7154e-af7e-4d08-e3fc-30fb26dbf696"
      },
      "execution_count": 14,
      "outputs": [
        {
          "output_type": "stream",
          "name": "stdout",
          "text": [
            "[[0 1 1 1 0 0]\n",
            " [1 0 0 1 1 0]\n",
            " [1 0 0 1 0 0]\n",
            " [1 1 1 0 1 1]\n",
            " [0 1 0 1 0 0]\n",
            " [0 0 0 1 0 0]]\n"
          ]
        }
      ]
    },
    {
      "cell_type": "code",
      "source": [
        "import matplotlib.pyplot as plt\n",
        "plt.imshow(mat_adj,cmap='Greys',interpolation='none')\n",
        "plt.show()"
      ],
      "metadata": {
        "colab": {
          "base_uri": "https://localhost:8080/",
          "height": 430
        },
        "id": "EraGEsCGtDfH",
        "outputId": "28a01050-1c62-47c6-e104-89ce8e927efd"
      },
      "execution_count": 24,
      "outputs": [
        {
          "output_type": "display_data",
          "data": {
            "text/plain": [
              "<Figure size 640x480 with 1 Axes>"
            ],
            "image/png": "[encoded data removed]"
          },
          "metadata": {}
        }
      ]
    }
  ]
}